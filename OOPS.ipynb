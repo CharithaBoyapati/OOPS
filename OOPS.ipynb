{
  "cells": [
    {
      "cell_type": "code",
      "execution_count": null,
      "metadata": {
        "id": "lIYdn1woOS1n"
      },
      "outputs": [],
      "source": []
    },
    {
      "cell_type": "markdown",
      "source": [
        "1.  What is Object-Oriented Programming (OOP)\n",
        "    - Object-Oriented Programming (OOP) is a programming paradigm centered around creating objects—which are instances of classes—that bundle data (attributes) and behavior (methods). It aims to model real-world entities and their interactions.\n",
        "2.  What is a class in OOP\n",
        "    -  In OOP, a class is like a blueprint or template for creating objects. It defines the attributes (data or properties) and methods (functions or behaviors) that the objects created from the class will have.\n",
        "3.  What is an object in OOP\n",
        "    -  In OOP, an object is a specific instance of a class. It represents a real-world entity with its own data (attributes) and can perform actions (methods).\n",
        "4. What is the difference between abstraction and encapsulation\n",
        "   -  Abstraction is about hiding complexity.\n",
        "   -Encapsulation is about protecting internal data.  \n",
        "5.  What are dunder methods in Python\n",
        " -  Dunder methods (short for double underscore methods) in Python are special methods that have names surrounded by double underscores, like __init__, __str__, or __add__. They define certain behaviors or behaviors for classes and objects, enabling features like operator overloading, object initialization, and custom string representation.\n",
        "6.  Explain the concept of inheritance in OOP\n",
        "   - Inheritance in OOP is a way to create a new class (called a subclass or derived class) based on an existing class (called a superclass or base class). The subclass inherits attributes and methods from the superclass, allowing code reuse and establishing a hierarchical relationship.\n",
        "7. What is polymorphism in OOP\n",
        "   - Polymorphism in OOP is the ability of different objects to respond to the same method call in their own way. It allows a single interface to represent different underlying data types or classes.\n",
        "8. How is encapsulation achieved in Python\n",
        "   -  Encapsulation in Python is mainly achieved through data hiding—restricting direct access to an object's internal data.\n",
        "9.  What is a constructor in Python\n",
        "   - A constructor in Python is a special method called __init__(). It's automatically invoked when you create a new object of a class, and it's used to initialize the object's attributes.\n",
        "10.  What are class and static methods in Python\n",
        "     -   Class methods:Defined with the @classmethod decorator.\n",
        "         The first parameter is cls, representing the class itself.\n",
        "     -    Static methods:Defined with the @staticmethod decorator.\n",
        "          They do not receive an implicit first argument (self or cls).\n",
        "11.  What is method overloading in Python\n",
        "     - Method overloading—the ability to define multiple methods with the same name but different parameters—is not directly supported in Python like in some other languages. If you define a method multiple times, the last definition overwrites the previous ones.\n",
        "12.  What is method overriding in OOP\n",
        "     -  Method overriding is a feature in Object-Oriented Programming (OOP) where a subclass provides its own version of a method that is already defined in its superclass. When the method is called on an instance of the subclass, the overridden version in the subclass is executed instead of the one in the superclass.\n",
        "13.  What is a property decorator in Python\n",
        "     -  A property decorator in Python is a built-in way to define methods that behave like attributes. It allows you to add getter, setter, and deleter functions to manage access to a class attribute, enabling encapsulation and control over attribute access, all while keeping the syntax simple and clean.            \n",
        "14.  Why is polymorphism important in OOP\n",
        "     -Polymorphism is crucial in OOP because it allows objects of different classes to be treated uniformly through a common interface, typically via inheritance or interfaces. This leads to flexible, scalable, and maintainable code by enabling\n",
        "15.  What is an abstract class in Python\n",
        "     -  An abstract class in Python is a class that cannot be instantiated on its own and serves as a blueprint for other classes. It defines methods that derived classes must implement, ensuring a common interface.\n",
        "16.  What are the advantages of OOP\n",
        "     - Modularity\n",
        "     -Reusability\n",
        "     -Scalability\n",
        "     -Maintainability\n",
        "     -Abstraction\n",
        "     -Flexibility\n",
        "17.  What is the difference between a class variable and an\n",
        "     instance variable\n",
        "     - Class Variable: Shared across all instances of the class. Defined at the class level and accessed via the class or instances.\n",
        "    - Instance Variable: Specific to each object instance. Defined inside methods (usually __init__) and unique to each object.\n",
        "18.  What is multiple inheritance in Python\n",
        "     -   Multiple inheritance in Python occurs when a class inherits from more than one parent class. It allows a subclass to incorporate features and behaviors from multiple classes, promoting code reuse and flexibility.\n",
        "19.  Explain the purpose of ‘’__str__’ and ‘__repr__’ ‘ methods in Python\n",
        "     -  _str__: Provides a human-readable, user-friendly string representation of an object. It is used by print() and str().\n",
        "\n",
        "     - __repr__: Provides an unambiguous, developer-focused string representation of an object, ideally one that could be used to recreate the object. It is used by repr() and in debugging.\n",
        "20.  What is the significance of the ‘super()’ function in Python\n",
        "     - The super() function in Python is crucial for working with inheritance, especially when you're dealing with class hierarchies. Its main purpose is to call methods from a parent (or superclass) from within a subclass, ensuring that the inherited behavior is executed correctly and avoiding redundant code.\n",
        "21.  What is the significance of the __del__ method in Python\n",
        "     -   The __del__ method in Python is a special or \"destructor\" method that is called when an object is about to be destroyed, usually when its reference count drops to zero. It allows you to define cleanup actions that should happen when an object is no longer needed—like closing files, releasing resources, or saving data.\n",
        "22.  What is the difference between @staticmethod and @classmethod in Python\n",
        "od for utility functions related to the class but independent of class/instance data.\n",
        "     - Use @classmethod when the method needs to access or modify class state.\n",
        "23.  How does polymorphism work in Python with inheritance\n",
        "     - Polymorphism in Python, especially with inheritance, allows objects of different classes to be treated uniformly based on common behavior or interface, even if their internal implementations differ.\n",
        "24.  What is method chaining in Python OOP\n",
        "     - Method chaining in Python OOP is a technique where multiple methods are called sequentially on the same object in a single statement. To enable method chaining, each method must return the object itself (self), allowing the next method to operate on the same instance.\n",
        "25.  What is the purpose of the __call__ method in Python?\n",
        "     - The __call__ method in Python allows an instance of a class to be used like a function. When an object has a __call__ method defined, you can call it using parentheses as if it were a function.              \n",
        "       \n",
        "     \n",
        "      \n",
        "       \n"
      ],
      "metadata": {
        "id": "i6qvSyoABUrI"
      }
    },
    {
      "cell_type": "markdown",
      "source": [
        "PRATICAL QUESTIONS"
      ],
      "metadata": {
        "id": "leKnpDUII_Xt"
      }
    },
    {
      "cell_type": "code",
      "source": [
        "#  1. Create a parent class Animal with a method speak() that prints a generic message. Create a child class Dog that overrides the speak() method to print \"Bark!\"\n",
        "class Animal:\n",
        "    def speak(self):\n",
        "        print(\"Some generic animal sound\")\n",
        "\n",
        "class Dog(Animal):\n",
        "    def speak(self):\n",
        "        print(\"Bark!\")\n",
        "\n",
        "# Creating instances\n",
        "generic_animal = Animal()\n",
        "dog = Dog()\n",
        "\n",
        "# Calling the speak method\n",
        "generic_animal.speak()  # Output: Some generic animal sound\n",
        "dog.speak()             # Output: Bark!\n"
      ],
      "metadata": {
        "id": "8144yFTpJJgA",
        "outputId": "8414b42d-c9f3-4c5f-e630-5c83738f214d",
        "colab": {
          "base_uri": "https://localhost:8080/"
        }
      },
      "execution_count": null,
      "outputs": [
        {
          "output_type": "stream",
          "name": "stdout",
          "text": [
            "Some generic animal sound\n",
            "Bark!\n"
          ]
        }
      ]
    },
    {
      "cell_type": "code",
      "source": [
        "#  2. Write a program to create an abstract class Shape with a method area(). Derive classes Circle and Rectangle from it and implement the area() method in both\n",
        "from abc import ABC, abstractmethod\n",
        "\n",
        "class Shape(ABC):\n",
        "    @abstractmethod\n",
        "    def area(self):\n",
        "        pass\n",
        "\n",
        "class Circle(Shape):\n",
        "    def __init__(self, radius):\n",
        "        self.radius = radius\n",
        "\n",
        "    def area(self):\n",
        "        return 3.1416 * self.radius * self.radius\n",
        "\n",
        "class Rectangle(Shape):\n",
        "    def __init__(self, length, width):\n",
        "        self.length = length\n",
        "        self.width = width\n",
        "\n",
        "    def area(self):\n",
        "        return self.length * self.width\n",
        "\n",
        "# Creating instances\n",
        "circle = Circle(5)\n",
        "rectangle = Rectangle(4, 6)\n",
        "\n",
        "print(\"Circle Area:\", circle.area())        # Output: Circle Area: 78.54\n",
        "print(\"Rectangle Area:\", rectangle.area())  # Output: Rectangle Area: 24\n"
      ],
      "metadata": {
        "id": "g7nW-Cx5JgOp",
        "outputId": "1139e475-b2a8-4a55-8e44-def00b5a109c",
        "colab": {
          "base_uri": "https://localhost:8080/"
        }
      },
      "execution_count": null,
      "outputs": [
        {
          "output_type": "stream",
          "name": "stdout",
          "text": [
            "Circle Area: 78.54\n",
            "Rectangle Area: 24\n"
          ]
        }
      ]
    },
    {
      "cell_type": "code",
      "source": [
        "#  3. Implement a multi-level inheritance scenario where a class Vehicle has an attribute type. Derive a class Car and further derive a class ElectricCar that adds a battery attribute\n",
        "class Vehicle:\n",
        "    def __init__(self, vehicle_type):\n",
        "        self.vehicle_type = vehicle_type\n",
        "\n",
        "    def display_info(self):\n",
        "        print(f\"Vehicle Type: {self.vehicle_type}\")\n",
        "\n",
        "class Car(Vehicle):\n",
        "    def __init__(self, vehicle_type, brand):\n",
        "        super().__init__(vehicle_type)\n",
        "        self.brand = brand\n",
        "\n",
        "    def display_info(self):\n",
        "        super().display_info()\n",
        "        print(f\"Brand: {self.brand}\")\n",
        "\n",
        "class ElectricCar(Car):\n",
        "    def __init__(self, vehicle_type, brand, battery_capacity):\n",
        "        super().__init__(vehicle_type, brand)\n",
        "        self.battery_capacity = battery_capacity\n",
        "\n",
        "    def display_info(self):\n",
        "        super().display_info()\n",
        "        print(f\"Battery Capacity: {self.battery_capacity} kWh\")\n",
        "\n",
        "# Creating an instance of ElectricCar\n",
        "tesla = ElectricCar(\"Electric\", \"Tesla\", 100)\n",
        "\n",
        "# Displaying information\n",
        "tesla.display_info()\n",
        "\n",
        "# Output:\n",
        "# Vehicle Type: Electric\n",
        "# Brand: Tesla\n",
        "# Battery Capacity: 100 kWh\n"
      ],
      "metadata": {
        "id": "jRVvBXLFJsjf",
        "outputId": "031ac3f8-5511-4e4f-f41c-2c52eef7cd6b",
        "colab": {
          "base_uri": "https://localhost:8080/"
        }
      },
      "execution_count": null,
      "outputs": [
        {
          "output_type": "stream",
          "name": "stdout",
          "text": [
            "Vehicle Type: Electric\n",
            "Brand: Tesla\n",
            "Battery Capacity: 100 kWh\n"
          ]
        }
      ]
    },
    {
      "cell_type": "code",
      "source": [
        "# 4. Demonstrate polymorphism by creating a base class Bird with a method fly(). Create two derived classes Sparrow and Penguin that override the fly() method.\n",
        "class Bird:\n",
        "    def fly(self):\n",
        "        print(\"Birds can generally fly.\")\n",
        "\n",
        "class Sparrow(Bird):\n",
        "    def fly(self):\n",
        "        print(\"Sparrow flies swiftly in the sky.\")\n",
        "\n",
        "class Penguin(Bird):\n",
        "    def fly(self):\n",
        "        print(\"Penguins can't fly, but they swim gracefully!\")\n",
        "\n",
        "# Demonstrating polymorphism\n",
        "birds = [Sparrow(), Penguin()]\n",
        "\n",
        "for bird in birds:\n",
        "    bird.fly()\n",
        "\n",
        "# Output:\n",
        "# Sparrow flies swiftly in the sky.\n",
        "# Penguins can't fly, but they swim gracefully!\n"
      ],
      "metadata": {
        "id": "58PqL8TOJ8Yl",
        "outputId": "dc6702d2-b54c-4482-a665-614bf91e92be",
        "colab": {
          "base_uri": "https://localhost:8080/"
        }
      },
      "execution_count": null,
      "outputs": [
        {
          "output_type": "stream",
          "name": "stdout",
          "text": [
            "Sparrow flies swiftly in the sky.\n",
            "Penguins can't fly, but they swim gracefully!\n"
          ]
        }
      ]
    },
    {
      "cell_type": "code",
      "source": [
        "#5. Write a program to demonstrate encapsulation by creating a class BankAccount with private attributes balance and methods to deposit, withdraw, and check balance\n",
        "class BankAccount:\n",
        "    def __init__(self, initial_balance=0):\n",
        "        self.__balance = initial_balance  # Private attribute\n",
        "\n",
        "    def deposit(self, amount):\n",
        "        if amount > 0:\n",
        "            self.__balance += amount\n",
        "            print(f\"Deposited: {amount}\")\n",
        "        else:\n",
        "            print(\"Deposit amount must be positive.\")\n",
        "\n",
        "    def withdraw(self, amount):\n",
        "        if 0 < amount <= self.__balance:\n",
        "            self.__balance -= amount\n",
        "            print(f\"Withdrawn: {amount}\")\n",
        "        else:\n",
        "            print(\"Invalid withdrawal amount or insufficient funds.\")\n",
        "\n",
        "    def get_balance(self):\n",
        "        return self.__balance\n",
        "\n",
        "# Creating a bank account instance\n",
        "account = BankAccount(100)\n",
        "\n",
        "# Performing transactions\n",
        "account.deposit(50)\n",
        "account.withdraw(30)\n",
        "print(\"Current Balance:\", account.get_balance())\n",
        "\n",
        "# Output:\n",
        "# Deposited: 50\n",
        "# Withdrawn: 30\n",
        "# Current Balance: 120\n"
      ],
      "metadata": {
        "id": "1_OLeBJOKPRz",
        "outputId": "a598d27f-4cef-4128-c098-25bfbf91888c",
        "colab": {
          "base_uri": "https://localhost:8080/"
        }
      },
      "execution_count": null,
      "outputs": [
        {
          "output_type": "stream",
          "name": "stdout",
          "text": [
            "Deposited: 50\n",
            "Withdrawn: 30\n",
            "Current Balance: 120\n"
          ]
        }
      ]
    },
    {
      "cell_type": "code",
      "source": [
        "#6. Demonstrate runtime polymorphism using a method play() in a base class Instrument. Derive classes Guitar and Piano that implement their own version of play().\n",
        "class Instrument:\n",
        "    def play(self):\n",
        "        print(\"Playing an instrument.\")\n",
        "\n",
        "class Guitar(Instrument):\n",
        "    def play(self):\n",
        "        print(\"Strumming the guitar!\")\n",
        "\n",
        "class Piano(Instrument):\n",
        "    def play(self):\n",
        "        print(\"Playing the piano with melody!\")\n",
        "\n",
        "# Demonstrating runtime polymorphism\n",
        "instruments = [Guitar(), Piano()]\n",
        "\n",
        "for instrument in instruments:\n",
        "    instrument.play()\n",
        "\n",
        "# Output:\n",
        "# Strumming the guitar!\n",
        "# Playing the piano with melody!\n"
      ],
      "metadata": {
        "id": "qWfnqJjoKbPF",
        "outputId": "7e366c52-0144-4672-80ef-dba8a2ed37fa",
        "colab": {
          "base_uri": "https://localhost:8080/"
        }
      },
      "execution_count": null,
      "outputs": [
        {
          "output_type": "stream",
          "name": "stdout",
          "text": [
            "Strumming the guitar!\n",
            "Playing the piano with melody!\n"
          ]
        }
      ]
    },
    {
      "cell_type": "code",
      "source": [
        "# 7. Create a class MathOperations with a class method add_numbers() to add two numbers and a static method subtract_numbers() to subtract two numbers\n",
        "class MathOperations:\n",
        "    @classmethod\n",
        "    def add_numbers(cls, a, b):\n",
        "        return a + b\n",
        "\n",
        "    @staticmethod\n",
        "    def subtract_numbers(a, b):\n",
        "        return a - b\n",
        "\n",
        "# Using the class method\n",
        "print(\"Addition:\", MathOperations.add_numbers(5, 3))  # Output: Addition: 8\n",
        "\n",
        "# Using the static method\n",
        "print(\"Subtraction:\", MathOperations.subtract_numbers(10, 4))  # Output: Subtraction: 6\n"
      ],
      "metadata": {
        "id": "U1mG9f4NKmRP",
        "outputId": "2d0b58a9-235c-4b5a-f5db-699870dc1fad",
        "colab": {
          "base_uri": "https://localhost:8080/"
        }
      },
      "execution_count": null,
      "outputs": [
        {
          "output_type": "stream",
          "name": "stdout",
          "text": [
            "Addition: 8\n",
            "Subtraction: 6\n"
          ]
        }
      ]
    },
    {
      "cell_type": "code",
      "source": [
        "#8. Implement a class Person with a class method to count the total number of persons created.\n",
        "class Person:\n",
        "    count = 0  # Class attribute to track the number of persons created\n",
        "\n",
        "    def __init__(self, name):\n",
        "        self.name = name\n",
        "        Person.count += 1  # Increment the count each time a new instance is created\n",
        "\n",
        "    @classmethod\n",
        "    def total_persons(cls):\n",
        "        return cls.count  # Accessing the class attribute using cls\n",
        "\n",
        "# Creating instances\n",
        "p1 = Person(\"Alice\")\n",
        "p2 = Person(\"Bob\")\n",
        "p3 = Person(\"Charlie\")\n",
        "\n",
        "# Checking total persons created\n",
        "print(\"Total Persons Created:\", Person.total_persons())  # Output: Total Persons Created: 3\n"
      ],
      "metadata": {
        "id": "--zYEDTJKxs0",
        "outputId": "424caa47-fcc2-4523-e013-3b713142c25f",
        "colab": {
          "base_uri": "https://localhost:8080/"
        }
      },
      "execution_count": null,
      "outputs": [
        {
          "output_type": "stream",
          "name": "stdout",
          "text": [
            "Total Persons Created: 3\n"
          ]
        }
      ]
    },
    {
      "cell_type": "code",
      "source": [
        "# 9. Write a class Fraction with attributes numerator and denominator. Override the str method to display the fraction as \"numerator/denominator\".\n",
        "class Fraction:\n",
        "    def __init__(self, numerator, denominator):\n",
        "        if denominator == 0:\n",
        "            raise ValueError(\"Denominator cannot be zero.\")\n",
        "        self.numerator = numerator\n",
        "        self.denominator = denominator\n",
        "\n",
        "    def __str__(self):\n",
        "        return f\"{self.numerator}/{self.denominator}\"\n",
        "\n",
        "# Creating an instance of Fraction\n",
        "frac = Fraction(3, 4)\n",
        "print(frac)  # Output: 3/4\n"
      ],
      "metadata": {
        "id": "51raJoo3K7oH",
        "outputId": "552082a8-98bd-45ab-fd26-5dc8a67550f9",
        "colab": {
          "base_uri": "https://localhost:8080/"
        }
      },
      "execution_count": null,
      "outputs": [
        {
          "output_type": "stream",
          "name": "stdout",
          "text": [
            "3/4\n"
          ]
        }
      ]
    },
    {
      "cell_type": "code",
      "source": [
        "# 10. Demonstrate operator overloading by creating a class Vector and overriding the add method to add two vectors.\n",
        "class Vector:\n",
        "    def __init__(self, x, y):\n",
        "        self.x = x\n",
        "        self.y = y\n",
        "\n",
        "    def __add__(self, other):\n",
        "        return Vector(self.x + other.x, self.y + other.y)\n",
        "\n",
        "    def __str__(self):\n",
        "        return f\"({self.x}, {self.y})\"\n",
        "\n",
        "# Creating vector instances\n",
        "v1 = Vector(2, 3)\n",
        "v2 = Vector(4, 1)\n",
        "\n",
        "# Adding vectors using operator overloading\n",
        "result = v1 + v2\n",
        "print(\"Resultant Vector:\", result)  # Output: Resultant Vector: (6, 4)\n"
      ],
      "metadata": {
        "id": "WUpJn_MXLFHI",
        "outputId": "966a7741-9454-4ac5-8d02-83952a283f31",
        "colab": {
          "base_uri": "https://localhost:8080/"
        }
      },
      "execution_count": null,
      "outputs": [
        {
          "output_type": "stream",
          "name": "stdout",
          "text": [
            "Resultant Vector: (6, 4)\n"
          ]
        }
      ]
    },
    {
      "cell_type": "code",
      "source": [
        "# 11. Create a class Person with attributes name and age. Add a method greet() that prints \"Hello, my name is {name} and I am {age} years old.\n",
        "class Person:\n",
        "    def __init__(self, name, age):\n",
        "        self.name = name\n",
        "        self.age = age\n",
        "\n",
        "    def greet(self):\n",
        "        print(f\"Hello, my name is {self.name} and I am {self.age} years old.\")\n",
        "\n",
        "# Creating an instance of Person\n",
        "person1 = Person(\"Alice\", 25)\n",
        "person1.greet()\n",
        "\n",
        "# Output:\n",
        "# Hello, my name is Alice and I am 25 years old.\n"
      ],
      "metadata": {
        "id": "7JWsRzFdLREe",
        "outputId": "b962be49-1505-4d21-b31a-f79b750a120c",
        "colab": {
          "base_uri": "https://localhost:8080/"
        }
      },
      "execution_count": null,
      "outputs": [
        {
          "output_type": "stream",
          "name": "stdout",
          "text": [
            "Hello, my name is Alice and I am 25 years old.\n"
          ]
        }
      ]
    },
    {
      "cell_type": "code",
      "source": [
        "# 12. Implement a class Student with attributes name and grades. Create a method average_grade() to compute the average of the grades\n",
        "class Student:\n",
        "    def __init__(self, name, grades):\n",
        "        self.name = name\n",
        "        self.grades = grades  # List of grades\n",
        "\n",
        "    def average_grade(self):\n",
        "        if not self.grades:\n",
        "            return 0  # Return 0 if there are no grades\n",
        "        return sum(self.grades) / len(self.grades)\n",
        "\n",
        "# Creating a student instance\n",
        "student1 = Student(\"Alice\", [85, 90, 78, 92])\n",
        "\n",
        "# Computing and displaying the average grade\n",
        "print(f\"{student1.name}'s Average Grade:\", student1.average_grade())\n",
        "\n",
        "# Output:\n",
        "# Alice's Average Grade: 86.25\n"
      ],
      "metadata": {
        "id": "BdLIE94kLe6O",
        "outputId": "ee52b391-c2e7-440a-94ec-d449b6bb20b5",
        "colab": {
          "base_uri": "https://localhost:8080/"
        }
      },
      "execution_count": null,
      "outputs": [
        {
          "output_type": "stream",
          "name": "stdout",
          "text": [
            "Alice's Average Grade: 86.25\n"
          ]
        }
      ]
    },
    {
      "cell_type": "code",
      "source": [
        "# 13. Create a class Rectangle with methods set_dimensions() to set the dimensions and area() to calculate the area.\n",
        "class Rectangle:\n",
        "    def __init__(self, length=0, width=0):\n",
        "        self.length = length\n",
        "        self.width = width\n",
        "\n",
        "    def set_dimensions(self, length, width):\n",
        "        self.length = length\n",
        "        self.width = width\n",
        "\n",
        "    def area(self):\n",
        "        return self.length * self.width\n",
        "\n",
        "# Creating a rectangle instance\n",
        "rect = Rectangle()\n",
        "\n",
        "# Setting dimensions\n",
        "rect.set_dimensions(5, 3)\n",
        "\n",
        "# Computing and displaying the area\n",
        "print(\"Rectangle Area:\", rect.area())  # Output: Rectangle Area: 15\n"
      ],
      "metadata": {
        "id": "51rWr3brLrCl",
        "outputId": "c6d642fd-d634-41de-ce8f-8f744d44ac72",
        "colab": {
          "base_uri": "https://localhost:8080/"
        }
      },
      "execution_count": null,
      "outputs": [
        {
          "output_type": "stream",
          "name": "stdout",
          "text": [
            "Rectangle Area: 15\n"
          ]
        }
      ]
    },
    {
      "cell_type": "code",
      "source": [
        "# 14. Create a class Employee with a method calculate_salary() that computes the salary based on hours worked and hourly rate. Create a derived class Manager that adds a bonus to the salary\n",
        "class Employee:\n",
        "    def __init__(self, name, hours_worked, hourly_rate):\n",
        "        self.name = name\n",
        "        self.hours_worked = hours_worked\n",
        "        self.hourly_rate = hourly_rate\n",
        "\n",
        "    def calculate_salary(self):\n",
        "        return self.hours_worked * self.hourly_rate\n",
        "\n",
        "class Manager(Employee):\n",
        "    def __init__(self, name, hours_worked, hourly_rate, bonus):\n",
        "        super().__init__(name, hours_worked, hourly_rate)\n",
        "        self.bonus = bonus\n",
        "\n",
        "    def calculate_salary(self):\n",
        "        return super().calculate_salary() + self.bonus\n",
        "\n",
        "# Creating an Employee instance\n",
        "emp = Employee(\"Alice\", 40, 20)\n",
        "print(f\"{emp.name}'s Salary:\", emp.calculate_salary())  # Output: Alice's Salary: 800\n",
        "\n",
        "# Creating a Manager instance\n",
        "mgr = Manager(\"Bob\", 40, 30, 500)\n",
        "print(f\"{mgr.name}'s Salary:\", mgr.calculate_salary())  # Output: Bob's Salary: 1700\n"
      ],
      "metadata": {
        "id": "UN4j6BrqL3js",
        "outputId": "4a7d4e07-44b8-40b3-8175-32ff5f04aaa4",
        "colab": {
          "base_uri": "https://localhost:8080/"
        }
      },
      "execution_count": null,
      "outputs": [
        {
          "output_type": "stream",
          "name": "stdout",
          "text": [
            "Alice's Salary: 800\n",
            "Bob's Salary: 1700\n"
          ]
        }
      ]
    },
    {
      "cell_type": "code",
      "source": [
        "#15. Create a class Product with attributes name, price, and quantity. Implement a method total_price() that calculates the total price of the product.\n",
        "class Product:\n",
        "    def __init__(self, name, price, quantity):\n",
        "        self.name = name\n",
        "        self.price = price\n",
        "        self.quantity = quantity\n",
        "\n",
        "    def total_price(self):\n",
        "        return self.price * self.quantity\n",
        "\n",
        "# Creating a product instance\n",
        "product1 = Product(\"Laptop\", 75000, 2)\n",
        "\n",
        "# Calculating and displaying total price\n",
        "print(f\"Total price for {product1.quantity} {product1.name}(s): ₹{product1.total_price()}\")\n",
        "\n",
        "# Output:\n",
        "# Total price for 2 Laptop(s): ₹150000\n"
      ],
      "metadata": {
        "id": "R7JVFhU5MDOM",
        "outputId": "ba7f291f-4474-49be-ba0e-a3e92a2b0307",
        "colab": {
          "base_uri": "https://localhost:8080/"
        }
      },
      "execution_count": null,
      "outputs": [
        {
          "output_type": "stream",
          "name": "stdout",
          "text": [
            "Total price for 2 Laptop(s): ₹150000\n"
          ]
        }
      ]
    },
    {
      "cell_type": "code",
      "source": [
        "# 16. Create a class Animal with an abstract method sound(). Create two derived classes Cow and Sheep that implement the sound() method\n",
        "from abc import ABC, abstractmethod\n",
        "\n",
        "class Animal(ABC):\n",
        "    @abstractmethod\n",
        "    def sound(self):\n",
        "        pass\n",
        "\n",
        "class Cow(Animal):\n",
        "    def sound(self):\n",
        "        print(\"Moo!\")\n",
        "\n",
        "class Sheep(Animal):\n",
        "    def sound(self):\n",
        "        print(\"Baa!\")\n",
        "\n",
        "# Creating instances\n",
        "cow = Cow()\n",
        "sheep = Sheep()\n",
        "\n",
        "# Calling the sound method\n",
        "cow.sound()   # Output: Moo!\n",
        "sheep.sound() # Output: Baa!\n"
      ],
      "metadata": {
        "id": "QK7FdD0HMN2T",
        "outputId": "86a5144a-02d3-4c66-a2c0-0b7526055962",
        "colab": {
          "base_uri": "https://localhost:8080/"
        }
      },
      "execution_count": null,
      "outputs": [
        {
          "output_type": "stream",
          "name": "stdout",
          "text": [
            "Moo!\n",
            "Baa!\n"
          ]
        }
      ]
    },
    {
      "cell_type": "code",
      "source": [
        "# 17. Create a class Book with attributes title, author, and year_published. Add a method get_book_info() that returns a formatted string with the book's details\n",
        "class Book:\n",
        "    def __init__(self, title, author, year_published):\n",
        "        self.title = title\n",
        "        self.author = author\n",
        "        self.year_published = year_published\n",
        "\n",
        "    def get_book_info(self):\n",
        "        return f\"'{self.title}' by {self.author}, published in {self.year_published}.\"\n",
        "\n",
        "# Creating a book instance\n",
        "book1 = Book(\"The Great Gatsby\", \"F. Scott Fitzgerald\", 1925)\n",
        "\n",
        "# Displaying book details\n",
        "print"
      ],
      "metadata": {
        "id": "EHQi4ZrkMaLF",
        "outputId": "be8adbab-3526-4915-d160-e3eebf08e4fa",
        "colab": {
          "base_uri": "https://localhost:8080/"
        }
      },
      "execution_count": null,
      "outputs": [
        {
          "output_type": "execute_result",
          "data": {
            "text/plain": [
              "<function print(*args, sep=' ', end='\\n', file=None, flush=False)>"
            ]
          },
          "metadata": {},
          "execution_count": 17
        }
      ]
    },
    {
      "cell_type": "code",
      "source": [
        "# 18. Create a class House with attributes address and price. Create a derived class Mansion that adds an attribute number_of_rooms.\n",
        "class House:\n",
        "    def __init__(self, address, price):\n",
        "        self.address = address\n",
        "        self.price = price\n",
        "\n",
        "    def display_info(self):\n",
        "        print(f\"Address: {self.address}, Price: ₹{self.price}\")\n",
        "\n",
        "class Mansion(House):\n",
        "    def __init__(self, address, price, number_of_rooms):\n",
        "        super().__init__(address, price)\n",
        "        self.number_of_rooms = number_of_rooms\n",
        "\n",
        "    def display_info(self):\n",
        "        super().display_info()\n",
        "        print(f\"Number of Rooms: {self.number_of_rooms}\")\n",
        "\n",
        "# Creating instances\n",
        "house1 = House(\"123 Maple Street, Hyderabad\", 5000000)\n",
        "mansion1 = Mansion(\"Luxury Estate, Hyderabad\", 25000000, 12)\n",
        "\n",
        "# Displaying information\n",
        "house1.display_info()\n",
        "print()\n",
        "mansion1.display_info()\n",
        "\n",
        "# Output:\n",
        "# Address: 123 Maple Street, Hyderabad, Price: ₹5000000\n",
        "#\n",
        "# Address: Luxury Estate, Hyderabad, Price: ₹25000000\n",
        "# Number of Rooms: 12\n"
      ],
      "metadata": {
        "id": "fxk568rcMmPP",
        "outputId": "7e406a47-ab9e-46ec-f5d0-14b6ad62c8e5",
        "colab": {
          "base_uri": "https://localhost:8080/"
        }
      },
      "execution_count": null,
      "outputs": [
        {
          "output_type": "stream",
          "name": "stdout",
          "text": [
            "Address: 123 Maple Street, Hyderabad, Price: ₹5000000\n",
            "\n",
            "Address: Luxury Estate, Hyderabad, Price: ₹25000000\n",
            "Number of Rooms: 12\n"
          ]
        }
      ]
    }
  ],
  "metadata": {
    "colab": {
      "provenance": []
    },
    "kernelspec": {
      "display_name": "Python 3",
      "name": "python3"
    }
  },
  "nbformat": 4,
  "nbformat_minor": 0
}